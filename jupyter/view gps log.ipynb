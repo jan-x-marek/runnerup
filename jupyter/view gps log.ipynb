{
 "cells": [
  {
   "cell_type": "code",
   "execution_count": null,
   "metadata": {},
   "outputs": [],
   "source": [
    "%matplotlib inline\n",
    "import numpy as np\n",
    "import pandas as pd\n",
    "import matplotlib.pyplot as plt"
   ]
  },
  {
   "cell_type": "code",
   "execution_count": null,
   "metadata": {},
   "outputs": [],
   "source": [
    "df = pd.read_csv('data/gps_2021-01-31-20-07.txt', names=['time','latitude','longitude'])"
   ]
  },
  {
   "cell_type": "code",
   "execution_count": null,
   "metadata": {},
   "outputs": [],
   "source": [
    "mapi = plt.imread('data/map.png')\n",
    "lat_min = 50.1072278\n",
    "lat_max = 50.1136542\n",
    "lng_min = 14.4842050\n",
    "lng_max = 14.4946872\n",
    "BBox = (lng_min, lng_max, lat_min, lat_max)"
   ]
  },
  {
   "cell_type": "code",
   "execution_count": null,
   "metadata": {},
   "outputs": [],
   "source": [
    "def plot_path(latitude, longitude):\n",
    "    fig, ax = plt.subplots(figsize = (15,15))\n",
    "    ax.scatter(longitude, latitude, zorder=1, alpha= 0.2, c='b', s=5)\n",
    "    ax.imshow(mapi, zorder=0, extent = BBox, aspect= 'equal')\n",
    "    \n",
    "def smooth(s, window):\n",
    "    return s.rolling(window).mean().dropna()    "
   ]
  },
  {
   "cell_type": "code",
   "execution_count": null,
   "metadata": {},
   "outputs": [],
   "source": [
    "plot_path(df.latitude, df.longitude)"
   ]
  },
  {
   "cell_type": "code",
   "execution_count": null,
   "metadata": {},
   "outputs": [],
   "source": [
    "plot_path(smooth(df.latitude, 30), smooth(df.longitude, 30))"
   ]
  },
  {
   "cell_type": "code",
   "execution_count": null,
   "metadata": {},
   "outputs": [],
   "source": [
    "def total_distance(latitude, longitude):\n",
    "    distance = 0\n",
    "    for i in range(len(latitude) - 1):\n",
    "        lat_delta = latitude.iloc[i+1] - latitude.iloc[i]\n",
    "        lng_delta = (longitude.iloc[i+1] - longitude.iloc[i]) * 0.66\n",
    "        distance += np.sqrt(lat_delta * lat_delta + lng_delta * lng_delta)\n",
    "    return distance * 111"
   ]
  },
  {
   "cell_type": "code",
   "execution_count": null,
   "metadata": {},
   "outputs": [],
   "source": [
    "print(total_distance(df.latitude, df.longitude))\n",
    "print(total_distance(smooth(df.latitude, 10), smooth(df.longitude, 10)))\n",
    "print(total_distance(smooth(df.latitude, 30), smooth(df.longitude, 30)))\n",
    "print(total_distance(smooth(df.latitude, 100), smooth(df.longitude, 100)))"
   ]
  },
  {
   "cell_type": "code",
   "execution_count": null,
   "metadata": {},
   "outputs": [],
   "source": []
  }
 ],
 "metadata": {
  "kernelspec": {
   "display_name": "Python 3",
   "language": "python",
   "name": "python3"
  },
  "language_info": {
   "codemirror_mode": {
    "name": "ipython",
    "version": 3
   },
   "file_extension": ".py",
   "mimetype": "text/x-python",
   "name": "python",
   "nbconvert_exporter": "python",
   "pygments_lexer": "ipython3",
   "version": "3.7.6"
  }
 },
 "nbformat": 4,
 "nbformat_minor": 4
}
